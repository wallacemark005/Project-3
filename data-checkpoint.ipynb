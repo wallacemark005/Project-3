{
 "cells": [
  {
   "cell_type": "code",
   "execution_count": 1,
   "metadata": {},
   "outputs": [],
   "source": [
    "import pandas as pd\n",
    "from sqlalchemy import create_engine"
   ]
  },
  {
   "cell_type": "code",
   "execution_count": 3,
   "metadata": {},
   "outputs": [
    {
     "data": {
      "text/html": [
       "<div>\n",
       "<style scoped>\n",
       "    .dataframe tbody tr th:only-of-type {\n",
       "        vertical-align: middle;\n",
       "    }\n",
       "\n",
       "    .dataframe tbody tr th {\n",
       "        vertical-align: top;\n",
       "    }\n",
       "\n",
       "    .dataframe thead th {\n",
       "        text-align: right;\n",
       "    }\n",
       "</style>\n",
       "<table border=\"1\" class=\"dataframe\">\n",
       "  <thead>\n",
       "    <tr style=\"text-align: right;\">\n",
       "      <th></th>\n",
       "      <th>Date</th>\n",
       "      <th>Open</th>\n",
       "      <th>High</th>\n",
       "      <th>Low</th>\n",
       "      <th>Close</th>\n",
       "      <th>Adj Close</th>\n",
       "      <th>Volume</th>\n",
       "    </tr>\n",
       "  </thead>\n",
       "  <tbody>\n",
       "    <tr>\n",
       "      <th>0</th>\n",
       "      <td>12/18/2013</td>\n",
       "      <td>19.180000</td>\n",
       "      <td>19.790001</td>\n",
       "      <td>18.900000</td>\n",
       "      <td>18.900000</td>\n",
       "      <td>13.593409</td>\n",
       "      <td>5457200</td>\n",
       "    </tr>\n",
       "    <tr>\n",
       "      <th>1</th>\n",
       "      <td>12/19/2013</td>\n",
       "      <td>18.900000</td>\n",
       "      <td>19.490000</td>\n",
       "      <td>18.809999</td>\n",
       "      <td>19.490000</td>\n",
       "      <td>14.017757</td>\n",
       "      <td>1605400</td>\n",
       "    </tr>\n",
       "    <tr>\n",
       "      <th>2</th>\n",
       "      <td>12/20/2013</td>\n",
       "      <td>19.650000</td>\n",
       "      <td>19.770000</td>\n",
       "      <td>19.400000</td>\n",
       "      <td>19.680000</td>\n",
       "      <td>14.154412</td>\n",
       "      <td>737100</td>\n",
       "    </tr>\n",
       "    <tr>\n",
       "      <th>3</th>\n",
       "      <td>12/23/2013</td>\n",
       "      <td>19.790001</td>\n",
       "      <td>19.990000</td>\n",
       "      <td>19.500000</td>\n",
       "      <td>19.740000</td>\n",
       "      <td>14.197559</td>\n",
       "      <td>698100</td>\n",
       "    </tr>\n",
       "    <tr>\n",
       "      <th>4</th>\n",
       "      <td>12/24/2013</td>\n",
       "      <td>19.740000</td>\n",
       "      <td>19.820000</td>\n",
       "      <td>19.500000</td>\n",
       "      <td>19.530001</td>\n",
       "      <td>14.046524</td>\n",
       "      <td>213700</td>\n",
       "    </tr>\n",
       "  </tbody>\n",
       "</table>\n",
       "</div>"
      ],
      "text/plain": [
       "         Date       Open       High        Low      Close  Adj Close   Volume\n",
       "0  12/18/2013  19.180000  19.790001  18.900000  18.900000  13.593409  5457200\n",
       "1  12/19/2013  18.900000  19.490000  18.809999  19.490000  14.017757  1605400\n",
       "2  12/20/2013  19.650000  19.770000  19.400000  19.680000  14.154412   737100\n",
       "3  12/23/2013  19.790001  19.990000  19.500000  19.740000  14.197559   698100\n",
       "4  12/24/2013  19.740000  19.820000  19.500000  19.530001  14.046524   213700"
      ]
     },
     "execution_count": 3,
     "metadata": {},
     "output_type": "execute_result"
    }
   ],
   "source": [
    "amc_file = \"AMC.csv\"\n",
    "amc_df = pd.read_csv(amc_file)\n",
    "amc_df.head()"
   ]
  },
  {
   "cell_type": "code",
   "execution_count": 4,
   "metadata": {},
   "outputs": [
    {
     "data": {
      "text/html": [
       "<div>\n",
       "<style scoped>\n",
       "    .dataframe tbody tr th:only-of-type {\n",
       "        vertical-align: middle;\n",
       "    }\n",
       "\n",
       "    .dataframe tbody tr th {\n",
       "        vertical-align: top;\n",
       "    }\n",
       "\n",
       "    .dataframe thead th {\n",
       "        text-align: right;\n",
       "    }\n",
       "</style>\n",
       "<table border=\"1\" class=\"dataframe\">\n",
       "  <thead>\n",
       "    <tr style=\"text-align: right;\">\n",
       "      <th></th>\n",
       "      <th>Date</th>\n",
       "      <th>Open</th>\n",
       "      <th>High</th>\n",
       "      <th>Low</th>\n",
       "      <th>Close</th>\n",
       "      <th>Adj Close</th>\n",
       "      <th>Volume</th>\n",
       "    </tr>\n",
       "  </thead>\n",
       "  <tbody>\n",
       "    <tr>\n",
       "      <th>0</th>\n",
       "      <td>12/18/2013</td>\n",
       "      <td>4024.669922</td>\n",
       "      <td>4070.379883</td>\n",
       "      <td>3979.590088</td>\n",
       "      <td>4070.060059</td>\n",
       "      <td>4070.060059</td>\n",
       "      <td>2178330000</td>\n",
       "    </tr>\n",
       "    <tr>\n",
       "      <th>1</th>\n",
       "      <td>12/19/2013</td>\n",
       "      <td>4059.340088</td>\n",
       "      <td>4063.699951</td>\n",
       "      <td>4045.409912</td>\n",
       "      <td>4058.139893</td>\n",
       "      <td>4058.139893</td>\n",
       "      <td>1813050000</td>\n",
       "    </tr>\n",
       "    <tr>\n",
       "      <th>2</th>\n",
       "      <td>12/20/2013</td>\n",
       "      <td>4064.889893</td>\n",
       "      <td>4111.930176</td>\n",
       "      <td>4064.729980</td>\n",
       "      <td>4104.740234</td>\n",
       "      <td>4104.740234</td>\n",
       "      <td>3510420000</td>\n",
       "    </tr>\n",
       "    <tr>\n",
       "      <th>3</th>\n",
       "      <td>12/23/2013</td>\n",
       "      <td>4136.149902</td>\n",
       "      <td>4149.310059</td>\n",
       "      <td>4127.720215</td>\n",
       "      <td>4148.899902</td>\n",
       "      <td>4148.899902</td>\n",
       "      <td>1779400000</td>\n",
       "    </tr>\n",
       "    <tr>\n",
       "      <th>4</th>\n",
       "      <td>12/24/2013</td>\n",
       "      <td>4150.640137</td>\n",
       "      <td>4155.620117</td>\n",
       "      <td>4147.149902</td>\n",
       "      <td>4155.419922</td>\n",
       "      <td>4155.419922</td>\n",
       "      <td>802270000</td>\n",
       "    </tr>\n",
       "  </tbody>\n",
       "</table>\n",
       "</div>"
      ],
      "text/plain": [
       "         Date         Open         High          Low        Close  \\\n",
       "0  12/18/2013  4024.669922  4070.379883  3979.590088  4070.060059   \n",
       "1  12/19/2013  4059.340088  4063.699951  4045.409912  4058.139893   \n",
       "2  12/20/2013  4064.889893  4111.930176  4064.729980  4104.740234   \n",
       "3  12/23/2013  4136.149902  4149.310059  4127.720215  4148.899902   \n",
       "4  12/24/2013  4150.640137  4155.620117  4147.149902  4155.419922   \n",
       "\n",
       "     Adj Close      Volume  \n",
       "0  4070.060059  2178330000  \n",
       "1  4058.139893  1813050000  \n",
       "2  4104.740234  3510420000  \n",
       "3  4148.899902  1779400000  \n",
       "4  4155.419922   802270000  "
      ]
     },
     "execution_count": 4,
     "metadata": {},
     "output_type": "execute_result"
    }
   ],
   "source": [
    "nasdaq_file = \"^IXIC.csv\"\n",
    "nasdaq_df = pd.read_csv(nasdaq_file)\n",
    "nasdaq_df.head()"
   ]
  },
  {
   "cell_type": "code",
   "execution_count": 5,
   "metadata": {
    "scrolled": true
   },
   "outputs": [
    {
     "data": {
      "text/html": [
       "<div>\n",
       "<style scoped>\n",
       "    .dataframe tbody tr th:only-of-type {\n",
       "        vertical-align: middle;\n",
       "    }\n",
       "\n",
       "    .dataframe tbody tr th {\n",
       "        vertical-align: top;\n",
       "    }\n",
       "\n",
       "    .dataframe thead th {\n",
       "        text-align: right;\n",
       "    }\n",
       "</style>\n",
       "<table border=\"1\" class=\"dataframe\">\n",
       "  <thead>\n",
       "    <tr style=\"text-align: right;\">\n",
       "      <th></th>\n",
       "      <th>Date</th>\n",
       "      <th>Close</th>\n",
       "      <th>Volume</th>\n",
       "    </tr>\n",
       "  </thead>\n",
       "  <tbody>\n",
       "    <tr>\n",
       "      <th>0</th>\n",
       "      <td>12/18/2013</td>\n",
       "      <td>18.900000</td>\n",
       "      <td>5457200</td>\n",
       "    </tr>\n",
       "    <tr>\n",
       "      <th>1</th>\n",
       "      <td>12/19/2013</td>\n",
       "      <td>19.490000</td>\n",
       "      <td>1605400</td>\n",
       "    </tr>\n",
       "    <tr>\n",
       "      <th>2</th>\n",
       "      <td>12/20/2013</td>\n",
       "      <td>19.680000</td>\n",
       "      <td>737100</td>\n",
       "    </tr>\n",
       "    <tr>\n",
       "      <th>3</th>\n",
       "      <td>12/23/2013</td>\n",
       "      <td>19.740000</td>\n",
       "      <td>698100</td>\n",
       "    </tr>\n",
       "    <tr>\n",
       "      <th>4</th>\n",
       "      <td>12/24/2013</td>\n",
       "      <td>19.530001</td>\n",
       "      <td>213700</td>\n",
       "    </tr>\n",
       "  </tbody>\n",
       "</table>\n",
       "</div>"
      ],
      "text/plain": [
       "         Date      Close   Volume\n",
       "0  12/18/2013  18.900000  5457200\n",
       "1  12/19/2013  19.490000  1605400\n",
       "2  12/20/2013  19.680000   737100\n",
       "3  12/23/2013  19.740000   698100\n",
       "4  12/24/2013  19.530001   213700"
      ]
     },
     "execution_count": 5,
     "metadata": {},
     "output_type": "execute_result"
    }
   ],
   "source": [
    "clean_amc = amc_df.drop(columns=['Open', 'High', 'Low', 'Adj Close'])\n",
    "clean_amc.head()"
   ]
  },
  {
   "cell_type": "code",
   "execution_count": 6,
   "metadata": {},
   "outputs": [
    {
     "data": {
      "text/html": [
       "<div>\n",
       "<style scoped>\n",
       "    .dataframe tbody tr th:only-of-type {\n",
       "        vertical-align: middle;\n",
       "    }\n",
       "\n",
       "    .dataframe tbody tr th {\n",
       "        vertical-align: top;\n",
       "    }\n",
       "\n",
       "    .dataframe thead th {\n",
       "        text-align: right;\n",
       "    }\n",
       "</style>\n",
       "<table border=\"1\" class=\"dataframe\">\n",
       "  <thead>\n",
       "    <tr style=\"text-align: right;\">\n",
       "      <th></th>\n",
       "      <th>Date</th>\n",
       "      <th>Close</th>\n",
       "      <th>Volume</th>\n",
       "    </tr>\n",
       "  </thead>\n",
       "  <tbody>\n",
       "    <tr>\n",
       "      <th>0</th>\n",
       "      <td>12/18/2013</td>\n",
       "      <td>4070.060059</td>\n",
       "      <td>2178330000</td>\n",
       "    </tr>\n",
       "    <tr>\n",
       "      <th>1</th>\n",
       "      <td>12/19/2013</td>\n",
       "      <td>4058.139893</td>\n",
       "      <td>1813050000</td>\n",
       "    </tr>\n",
       "    <tr>\n",
       "      <th>2</th>\n",
       "      <td>12/20/2013</td>\n",
       "      <td>4104.740234</td>\n",
       "      <td>3510420000</td>\n",
       "    </tr>\n",
       "    <tr>\n",
       "      <th>3</th>\n",
       "      <td>12/23/2013</td>\n",
       "      <td>4148.899902</td>\n",
       "      <td>1779400000</td>\n",
       "    </tr>\n",
       "    <tr>\n",
       "      <th>4</th>\n",
       "      <td>12/24/2013</td>\n",
       "      <td>4155.419922</td>\n",
       "      <td>802270000</td>\n",
       "    </tr>\n",
       "  </tbody>\n",
       "</table>\n",
       "</div>"
      ],
      "text/plain": [
       "         Date        Close      Volume\n",
       "0  12/18/2013  4070.060059  2178330000\n",
       "1  12/19/2013  4058.139893  1813050000\n",
       "2  12/20/2013  4104.740234  3510420000\n",
       "3  12/23/2013  4148.899902  1779400000\n",
       "4  12/24/2013  4155.419922   802270000"
      ]
     },
     "execution_count": 6,
     "metadata": {},
     "output_type": "execute_result"
    }
   ],
   "source": [
    "clean_nasdaq = nasdaq_df.drop(columns=['Open', 'High', 'Low', 'Adj Close'])\n",
    "clean_nasdaq.head()"
   ]
  },
  {
   "cell_type": "code",
   "execution_count": 7,
   "metadata": {},
   "outputs": [],
   "source": [
    "rds_connection_string = \"postgres:********$@localhost:5432/amc\"\n",
    "engine = create_engine(f'postgresql://{rds_connection_string}')"
   ]
  },
  {
   "cell_type": "code",
   "execution_count": 8,
   "metadata": {},
   "outputs": [],
   "source": [
    "clean_amc.to_sql(name='amc_1', con=engine, if_exists='append', index=False)"
   ]
  },
  {
   "cell_type": "code",
   "execution_count": 9,
   "metadata": {},
   "outputs": [],
   "source": [
    "clean_nasdaq.to_sql(name='nasdaq_1', con=engine, if_exists='append', index=False)"
   ]
  },
  {
   "cell_type": "code",
   "execution_count": 10,
   "metadata": {},
   "outputs": [
    {
     "data": {
      "text/plain": [
       "Date       object\n",
       "Close     float64\n",
       "Volume      int64\n",
       "dtype: object"
      ]
     },
     "execution_count": 10,
     "metadata": {},
     "output_type": "execute_result"
    }
   ],
   "source": [
    "clean_amc.dtypes"
   ]
  },
  {
   "cell_type": "code",
   "execution_count": null,
   "metadata": {},
   "outputs": [],
   "source": []
  }
 ],
 "metadata": {
  "kernelspec": {
   "display_name": "Python 3",
   "language": "python",
   "name": "python3"
  },
  "language_info": {
   "codemirror_mode": {
    "name": "ipython",
    "version": 3
   },
   "file_extension": ".py",
   "mimetype": "text/x-python",
   "name": "python",
   "nbconvert_exporter": "python",
   "pygments_lexer": "ipython3",
   "version": "3.8.8"
  }
 },
 "nbformat": 4,
 "nbformat_minor": 4
}
